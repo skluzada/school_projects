{
 "cells": [
  {
   "cell_type": "code",
   "execution_count": null,
   "metadata": {},
   "outputs": [],
   "source": [
    "import pandas as pd\n",
    "import numpy as np"
   ]
  },
  {
   "cell_type": "code",
   "execution_count": null,
   "metadata": {},
   "outputs": [],
   "source": [
    "title_crew = pd.read_csv('datasets/title.crew.tsv', sep='\\t', low_memory=False)\n",
    "# drop writers column\n",
    "title_crew = title_crew.drop(columns='writers')\n",
    "# drop rows with multiple directors\n",
    "title_crew = title_crew[~title_crew['directors'].str.contains(',')]\n",
    "# drop rows with \\N values (nan)\n",
    "title_crew = title_crew[~title_crew['directors'].str.contains('N')]\n",
    "# rename directors column to director\n",
    "title_crew = title_crew.rename(columns={'directors' : 'director'})"
   ]
  },
  {
   "cell_type": "code",
   "execution_count": null,
   "metadata": {
    "scrolled": true
   },
   "outputs": [],
   "source": [
    "title_basics = pd.read_csv('datasets/title.basics.tsv', sep='\\t', low_memory=False)\n",
    "# join title_basics with title_crew on tconst\n",
    "title_basics = title_basics.join(title_crew.set_index('tconst'), on='tconst')\n",
    "# replace \\N values with nan values\n",
    "title_basics = title_basics.replace('\\\\N',np.NaN)\n",
    "# drop rows with null value in the given rows\n",
    "title_basics = title_basics.dropna(subset=['originalTitle', 'startYear', 'director', 'runtimeMinutes', 'genres'])\n",
    "# drop endYear column, as it's null for most of the columns\n",
    "title_basics = title_basics.drop(columns='endYear')\n",
    "# get only the first genre\n",
    "title_basics['genres'] = title_basics['genres'].apply(lambda x: x.split(',')[0])\n",
    "# rename startYear and genres column\n",
    "title_basics = title_basics.rename(columns={'startYear' : 'releaseYear', 'genres' : 'genre'})\n",
    "# title_basics.to_csv('datasets/title_basics.tsv', sep='\\t', index=False)"
   ]
  },
  {
   "cell_type": "code",
   "execution_count": null,
   "metadata": {},
   "outputs": [],
   "source": [
    "title_ratings = pd.read_csv('datasets/title.ratings.tsv', sep='\\t', low_memory=False)\n",
    "# join title_basics with title_ratings on tconst\n",
    "title_basics_ratings = title_basics.join(title_ratings.set_index('tconst'), on='tconst')\n",
    "# drop rows with null values in rating columns\n",
    "title_basics_ratings = title_basics_ratings.dropna(subset=['averageRating', 'numVotes'])"
   ]
  },
  {
   "cell_type": "code",
   "execution_count": null,
   "metadata": {
    "scrolled": true
   },
   "outputs": [],
   "source": [
    "name_basics = pd.read_csv('datasets/name.basics.tsv', sep='\\t', low_memory=False)\n",
    "# rename nconst column to director\n",
    "name_basics = name_basics.rename(columns={'nconst' : 'director'})\n",
    "# join titl_basics_ratings with name_basics on director\n",
    "title_basics_ratings_director = title_basics_ratings.join(name_basics.set_index('director'), on='director')"
   ]
  },
  {
   "cell_type": "code",
   "execution_count": null,
   "metadata": {},
   "outputs": [],
   "source": [
    "title_basics_ratings_director = pd.read_csv('datasets/title_basics_ratings_director.tsv', sep='\\t', low_memory=False)\n",
    "# drop rows with null values in primaryProfession column\n",
    "title_basics_ratings_director = title_basics_ratings_director.dropna(subset=['primaryProfession'])\n",
    "# replace multiple professions with one primary\n",
    "title_basics_ratings_director['primaryProfession'] = title_basics_ratings_director['primaryProfession'].apply(lambda x: x.split(',')[0])\n",
    "# replace multiple known for titles with one\n",
    "title_basics_ratings_director['knownForTitles'] = title_basics_ratings_director['knownForTitles'].apply(lambda x: x.split(',')[0])\n",
    "# rename columns\n",
    "title_basics_ratings_director = title_basics_ratings_director.rename(columns={'tconst' : 'title_id', 'director' : 'director_id', \n",
    "    'primaryName' : 'director_primaryName', 'birthYear' : 'director_birthYear', 'deathYear' : 'director_deathYear', \n",
    "    'primaryProfession' : 'director_primaryProfession', 'knownForTitles': 'director_knownForTitle'})\n",
    "title_basics_ratings_director['numVotes'] = title_basics_ratings_director['numVotes'].astype(np.int64)"
   ]
  },
  {
   "cell_type": "code",
   "execution_count": null,
   "metadata": {},
   "outputs": [],
   "source": [
    "#separate data back to the original structures\n",
    "title_basics = title_basics_ratings_director[['title_id', 'titleType', 'primaryTitle', 'originalTitle', \n",
    "    'isAdult', 'releaseYear', 'runtimeMinutes', 'genre', 'director_id']]\n",
    "title_ratings = title_basics_ratings_director[['title_id', 'averageRating', 'numVotes']]\n",
    "director_basics = title_basics_ratings_director[['director_id', 'director_primaryName', 'director_birthYear', 'director_deathYear', \n",
    "    'director_primaryProfession', 'director_knownForTitle']]"
   ]
  },
  {
   "cell_type": "code",
   "execution_count": null,
   "metadata": {},
   "outputs": [],
   "source": [
    "# get 50000 rows from each dataframe\n",
    "title_basics = title_basics.head(50000)\n",
    "title_ratings = title_ratings.head(50000)\n",
    "# drop duplicates in director_basics table\n",
    "director_basics = director_basics.drop_duplicates(subset=['director_id'])\n",
    "director_basics = director_basics.head(50000)"
   ]
  },
  {
   "cell_type": "code",
   "execution_count": null,
   "metadata": {},
   "outputs": [],
   "source": [
    "# export the data\n",
    "title_basics.to_csv('datasets/title_basics.csv', index=False)\n",
    "title_ratings.to_csv('datasets/title_ratings.csv', index=False)\n",
    "director_basics.to_csv('datasets/director_basics.csv', index=False)"
   ]
  }
 ],
 "metadata": {
  "kernelspec": {
   "display_name": "Python 3",
   "language": "python",
   "name": "python3"
  },
  "language_info": {
   "codemirror_mode": {
    "name": "ipython",
    "version": 3
   },
   "file_extension": ".py",
   "mimetype": "text/x-python",
   "name": "python",
   "nbconvert_exporter": "python",
   "pygments_lexer": "ipython3",
   "version": "3.7.0"
  }
 },
 "nbformat": 4,
 "nbformat_minor": 2
}
