{
 "cells": [
  {
   "cell_type": "code",
   "execution_count": 1,
   "metadata": {},
   "outputs": [
    {
     "name": "stdout",
     "output_type": "stream",
     "text": [
      "<class 'pandas.core.frame.DataFrame'>\n",
      "RangeIndex: 39644 entries, 0 to 39643\n",
      "Data columns (total 61 columns):\n",
      "url                              39644 non-null object\n",
      "timedelta                        39644 non-null float64\n",
      "n_tokens_title                   39644 non-null float64\n",
      "n_tokens_content                 39644 non-null float64\n",
      "n_unique_tokens                  39644 non-null float64\n",
      "n_non_stop_words                 39644 non-null float64\n",
      "n_non_stop_unique_tokens         39644 non-null float64\n",
      "num_hrefs                        39644 non-null float64\n",
      "num_self_hrefs                   39644 non-null float64\n",
      "num_imgs                         39644 non-null float64\n",
      "num_videos                       39644 non-null float64\n",
      "average_token_length             39644 non-null float64\n",
      "num_keywords                     39644 non-null float64\n",
      "data_channel_is_lifestyle        39644 non-null float64\n",
      "data_channel_is_entertainment    39644 non-null float64\n",
      "data_channel_is_bus              39644 non-null float64\n",
      "data_channel_is_socmed           39644 non-null float64\n",
      "data_channel_is_tech             39644 non-null float64\n",
      "data_channel_is_world            39644 non-null float64\n",
      "kw_min_min                       39644 non-null float64\n",
      "kw_max_min                       39644 non-null float64\n",
      "kw_avg_min                       39644 non-null float64\n",
      "kw_min_max                       39644 non-null float64\n",
      "kw_max_max                       39644 non-null float64\n",
      "kw_avg_max                       39644 non-null float64\n",
      "kw_min_avg                       39644 non-null float64\n",
      "kw_max_avg                       39644 non-null float64\n",
      "kw_avg_avg                       39644 non-null float64\n",
      "self_reference_min_shares        39644 non-null float64\n",
      "self_reference_max_shares        39644 non-null float64\n",
      "self_reference_avg_sharess       39644 non-null float64\n",
      "weekday_is_monday                39644 non-null float64\n",
      "weekday_is_tuesday               39644 non-null float64\n",
      "weekday_is_wednesday             39644 non-null float64\n",
      "weekday_is_thursday              39644 non-null float64\n",
      "weekday_is_friday                39644 non-null float64\n",
      "weekday_is_saturday              39644 non-null float64\n",
      "weekday_is_sunday                39644 non-null float64\n",
      "is_weekend                       39644 non-null float64\n",
      "LDA_00                           39644 non-null float64\n",
      "LDA_01                           39644 non-null float64\n",
      "LDA_02                           39644 non-null float64\n",
      "LDA_03                           39644 non-null float64\n",
      "LDA_04                           39644 non-null float64\n",
      "global_subjectivity              39644 non-null float64\n",
      "global_sentiment_polarity        39644 non-null float64\n",
      "global_rate_positive_words       39644 non-null float64\n",
      "global_rate_negative_words       39644 non-null float64\n",
      "rate_positive_words              39644 non-null float64\n",
      "rate_negative_words              39644 non-null float64\n",
      "avg_positive_polarity            39644 non-null float64\n",
      "min_positive_polarity            39644 non-null float64\n",
      "max_positive_polarity            39644 non-null float64\n",
      "avg_negative_polarity            39644 non-null float64\n",
      "min_negative_polarity            39644 non-null float64\n",
      "max_negative_polarity            39644 non-null float64\n",
      "title_subjectivity               39644 non-null float64\n",
      "title_sentiment_polarity         39644 non-null float64\n",
      "abs_title_subjectivity           39644 non-null float64\n",
      "abs_title_sentiment_polarity     39644 non-null float64\n",
      "shares                           39644 non-null int64\n",
      "dtypes: float64(59), int64(1), object(1)\n",
      "memory usage: 18.5+ MB\n"
     ]
    }
   ],
   "source": [
    "import pandas as pd\n",
    "import numpy as np\n",
    "import seaborn as sns\n",
    "from sklearn.metrics import median_absolute_error\n",
    "from sklearn.linear_model import LinearRegression\n",
    "from sklearn.linear_model import Ridge\n",
    "from sklearn.model_selection import GridSearchCV\n",
    "from sklearn.model_selection import train_test_split\n",
    "\n",
    "# we don't want to see warnings\n",
    "import warnings\n",
    "warnings.filterwarnings('ignore')\n",
    "\n",
    "df = pd.read_csv('data.csv')\n",
    "df.columns = [col.strip() for col in df.columns]\n",
    "df.info()"
   ]
  },
  {
   "cell_type": "code",
   "execution_count": 2,
   "metadata": {},
   "outputs": [],
   "source": [
    "# let's create a function that will perform linear and ridge regression, \n",
    "# use GridSearchCV to find optimal hyperparameters and print median_absolute_error\n",
    "def perform_linear_and_ridge_regression(X, Y):\n",
    "    X_train, X_test, Y_train, Y_test = train_test_split(X, Y, test_size=0.25, random_state=42) \n",
    "    \n",
    "    lin_reg_parameters = {\n",
    "        'fit_intercept': [True, False]\n",
    "    }\n",
    "    lin_reg = GridSearchCV(LinearRegression(), lin_reg_parameters, cv=5)\n",
    "    lin_reg.fit(X=X_train, y=Y_train)\n",
    "    Y_pred = lin_reg.predict(X_test)\n",
    "    print('Linear regression MAE =', median_absolute_error(Y_test, Y_pred))\n",
    "    \n",
    "    rid_reg_parameters = {\n",
    "        'alpha': np.arange(0.5, 5, 0.5),\n",
    "        'fit_intercept': [True, False],\n",
    "        #'max_iter' : range(500, 1500, 500), this doesn't seem to have any effect\n",
    "        #'solver' : ['auto', 'svd', 'saga'] this one takes waaay too long for some reason\n",
    "    }\n",
    "    rid_reg = GridSearchCV(Ridge(), rid_reg_parameters, cv=5)\n",
    "    rid_reg.fit(X=X_train, y=Y_train)\n",
    "    Y_pred = rid_reg.predict(X_test)\n",
    "    print('Ridge regression MAE =', median_absolute_error(Y_test, Y_pred))"
   ]
  },
  {
   "cell_type": "code",
   "execution_count": 3,
   "metadata": {},
   "outputs": [
    {
     "name": "stdout",
     "output_type": "stream",
     "text": [
      "Linear regression MAE = 1690.9906911462958\n",
      "Ridge regression MAE = 1687.703286686748\n"
     ]
    }
   ],
   "source": [
    "# remove non-predictive features first\n",
    "df.drop(columns=['url', 'timedelta'], inplace=True)\n",
    "# and let's make our first attempt\n",
    "perform_linear_and_ridge_regression(X=df.drop(columns=['shares']), Y=df['shares'])\n",
    "# as suggested in the assignment the first attempt results in MAE around 1700"
   ]
  },
  {
   "cell_type": "code",
   "execution_count": 4,
   "metadata": {},
   "outputs": [
    {
     "data": {
      "text/plain": [
       "<matplotlib.axes._subplots.AxesSubplot at 0x7f47482e2828>"
      ]
     },
     "execution_count": 4,
     "metadata": {},
     "output_type": "execute_result"
    },
    {
     "data": {
      "image/png": "[encoded data removed]",
      "text/plain": [
       "<Figure size 432x288 with 2 Axes>"
      ]
     },
     "metadata": {
      "needs_background": "light"
     },
     "output_type": "display_data"
    }
   ],
   "source": [
    "# before we drop some of the columns with low correlation let's look at the kw features\n",
    "# we don't get too much information about the kw features\n",
    "# are worst keywords the ones least relevant to the topic or are they mostly in the least shared articles?\n",
    "# looking at the data it's probably the second but we can't tell for sure \n",
    "# let's look at the correlation matrix of kw features and shares feature\n",
    "sns.heatmap(df[[column for column in df.columns if 'kw_' in column]].corr(), linewidths=0.1, annot=True)"
   ]
  },
  {
   "cell_type": "code",
   "execution_count": 5,
   "metadata": {},
   "outputs": [
    {
     "name": "stdout",
     "output_type": "stream",
     "text": [
      "Linear regression MAE = 1688.4487370781935\n",
      "Ridge regression MAE = 1687.3015135167698\n"
     ]
    }
   ],
   "source": [
    "# as expected, those columns are pretty correlated, let's try removing all the _min and _max features\n",
    "# so we only keep the kw_avg features (and kw_avg_max because of it's high correlation with shares)\n",
    "df_test = df.drop(columns=['kw_min_min', 'kw_max_min', 'kw_min_max', 'kw_max_max', 'kw_avg_min'])\n",
    "# let's see whether it had a possitive effect\n",
    "perform_linear_and_ridge_regression(X=df_test.drop(columns=['shares']), Y=df_test['shares'])\n",
    "# very small improvement, but we take it\n",
    "df = df_test"
   ]
  },
  {
   "cell_type": "code",
   "execution_count": 6,
   "metadata": {},
   "outputs": [
    {
     "data": {
      "text/plain": [
       "n_tokens_title                   0.008783\n",
       "n_tokens_content                 0.002459\n",
       "n_unique_tokens                  0.000806\n",
       "n_non_stop_words                 0.000443\n",
       "n_non_stop_unique_tokens         0.000114\n",
       "num_hrefs                        0.045404\n",
       "num_self_hrefs                  -0.001900\n",
       "num_imgs                         0.039388\n",
       "num_videos                       0.023936\n",
       "average_token_length            -0.022007\n",
       "num_keywords                     0.021818\n",
       "data_channel_is_lifestyle        0.005831\n",
       "data_channel_is_entertainment   -0.017006\n",
       "data_channel_is_bus             -0.012376\n",
       "data_channel_is_socmed           0.005021\n",
       "data_channel_is_tech            -0.013253\n",
       "data_channel_is_world           -0.049497\n",
       "kw_avg_max                       0.044686\n",
       "kw_min_avg                       0.039551\n",
       "kw_max_avg                       0.064306\n",
       "kw_avg_avg                       0.110413\n",
       "self_reference_min_shares        0.055958\n",
       "self_reference_max_shares        0.047115\n",
       "self_reference_avg_sharess       0.057789\n",
       "weekday_is_monday                0.009726\n",
       "weekday_is_tuesday              -0.007941\n",
       "weekday_is_wednesday            -0.003801\n",
       "weekday_is_thursday             -0.008833\n",
       "weekday_is_friday               -0.003884\n",
       "weekday_is_saturday              0.015082\n",
       "weekday_is_sunday                0.008230\n",
       "is_weekend                       0.016958\n",
       "LDA_00                          -0.003793\n",
       "LDA_01                          -0.010183\n",
       "LDA_02                          -0.059163\n",
       "LDA_03                           0.083771\n",
       "LDA_04                          -0.016622\n",
       "global_subjectivity              0.031604\n",
       "global_sentiment_polarity        0.004163\n",
       "global_rate_positive_words       0.000543\n",
       "global_rate_negative_words       0.006615\n",
       "rate_positive_words             -0.013241\n",
       "rate_negative_words             -0.005183\n",
       "avg_positive_polarity            0.012142\n",
       "min_positive_polarity           -0.000040\n",
       "max_positive_polarity            0.010068\n",
       "avg_negative_polarity           -0.032029\n",
       "min_negative_polarity           -0.019297\n",
       "max_negative_polarity           -0.019300\n",
       "title_subjectivity               0.021967\n",
       "title_sentiment_polarity         0.012772\n",
       "abs_title_subjectivity           0.001481\n",
       "abs_title_sentiment_polarity     0.027135\n",
       "Name: shares, dtype: float64"
      ]
     },
     "metadata": {},
     "output_type": "display_data"
    },
    {
     "data": {
      "text/html": [
       "<div>\n",
       "<style scoped>\n",
       "    .dataframe tbody tr th:only-of-type {\n",
       "        vertical-align: middle;\n",
       "    }\n",
       "\n",
       "    .dataframe tbody tr th {\n",
       "        vertical-align: top;\n",
       "    }\n",
       "\n",
       "    .dataframe thead th {\n",
       "        text-align: right;\n",
       "    }\n",
       "</style>\n",
       "<table border=\"1\" class=\"dataframe\">\n",
       "  <thead>\n",
       "    <tr style=\"text-align: right;\">\n",
       "      <th></th>\n",
       "      <th>shares</th>\n",
       "    </tr>\n",
       "  </thead>\n",
       "  <tbody>\n",
       "    <tr>\n",
       "      <th>count</th>\n",
       "      <td>53.000000</td>\n",
       "    </tr>\n",
       "    <tr>\n",
       "      <th>mean</th>\n",
       "      <td>0.021801</td>\n",
       "    </tr>\n",
       "    <tr>\n",
       "      <th>std</th>\n",
       "      <td>0.023278</td>\n",
       "    </tr>\n",
       "    <tr>\n",
       "      <th>min</th>\n",
       "      <td>0.000040</td>\n",
       "    </tr>\n",
       "    <tr>\n",
       "      <th>5%</th>\n",
       "      <td>0.000503</td>\n",
       "    </tr>\n",
       "    <tr>\n",
       "      <th>8%</th>\n",
       "      <td>0.000914</td>\n",
       "    </tr>\n",
       "    <tr>\n",
       "      <th>10%</th>\n",
       "      <td>0.001565</td>\n",
       "    </tr>\n",
       "    <tr>\n",
       "      <th>20%</th>\n",
       "      <td>0.003996</td>\n",
       "    </tr>\n",
       "    <tr>\n",
       "      <th>50%</th>\n",
       "      <td>0.013241</td>\n",
       "    </tr>\n",
       "    <tr>\n",
       "      <th>max</th>\n",
       "      <td>0.110413</td>\n",
       "    </tr>\n",
       "  </tbody>\n",
       "</table>\n",
       "</div>"
      ],
      "text/plain": [
       "          shares\n",
       "count  53.000000\n",
       "mean    0.021801\n",
       "std     0.023278\n",
       "min     0.000040\n",
       "5%      0.000503\n",
       "8%      0.000914\n",
       "10%     0.001565\n",
       "20%     0.003996\n",
       "50%     0.013241\n",
       "max     0.110413"
      ]
     },
     "metadata": {},
     "output_type": "display_data"
    }
   ],
   "source": [
    "# let's see the correlation of all the predicting features with shares feature\n",
    "display(df.corr()['shares'].head(53))\n",
    "# describe correlation values in abs with 5%, 8%, 10% and 20% percentiles\n",
    "df_corr = pd.DataFrame(df.corr()['shares'].head(53).abs())\n",
    "display(df_corr.describe(percentiles=[0.05, 0.08, 0.1, 0.2]))"
   ]
  },
  {
   "cell_type": "code",
   "execution_count": 7,
   "metadata": {},
   "outputs": [
    {
     "data": {
      "text/html": [
       "<div>\n",
       "<style scoped>\n",
       "    .dataframe tbody tr th:only-of-type {\n",
       "        vertical-align: middle;\n",
       "    }\n",
       "\n",
       "    .dataframe tbody tr th {\n",
       "        vertical-align: top;\n",
       "    }\n",
       "\n",
       "    .dataframe thead th {\n",
       "        text-align: right;\n",
       "    }\n",
       "</style>\n",
       "<table border=\"1\" class=\"dataframe\">\n",
       "  <thead>\n",
       "    <tr style=\"text-align: right;\">\n",
       "      <th></th>\n",
       "      <th>shares</th>\n",
       "    </tr>\n",
       "  </thead>\n",
       "  <tbody>\n",
       "    <tr>\n",
       "      <th>n_non_stop_words</th>\n",
       "      <td>0.000443</td>\n",
       "    </tr>\n",
       "    <tr>\n",
       "      <th>n_non_stop_unique_tokens</th>\n",
       "      <td>0.000114</td>\n",
       "    </tr>\n",
       "    <tr>\n",
       "      <th>min_positive_polarity</th>\n",
       "      <td>0.000040</td>\n",
       "    </tr>\n",
       "  </tbody>\n",
       "</table>\n",
       "</div>"
      ],
      "text/plain": [
       "                            shares\n",
       "n_non_stop_words          0.000443\n",
       "n_non_stop_unique_tokens  0.000114\n",
       "min_positive_polarity     0.000040"
      ]
     },
     "execution_count": 7,
     "metadata": {},
     "output_type": "execute_result"
    }
   ],
   "source": [
    "# find features with correlation in the bottom 5%\n",
    "df_corr.loc[df_corr['shares'] < 0.000503]"
   ]
  },
  {
   "cell_type": "code",
   "execution_count": 8,
   "metadata": {},
   "outputs": [
    {
     "name": "stdout",
     "output_type": "stream",
     "text": [
      "Linear regression MAE = 1689.4863366649952\n",
      "Ridge regression MAE = 1680.0201746394828\n"
     ]
    }
   ],
   "source": [
    "# drop the features\n",
    "df_test = df.drop(columns=['min_positive_polarity', 'n_non_stop_words', 'n_non_stop_unique_tokens'])\n",
    "# let's see whether it had a possitive effect\n",
    "perform_linear_and_ridge_regression(X=df_test.drop(columns=['shares']), Y=df_test['shares'])\n",
    "# we got a little bit worse results for the Linear regression but better results for Ridge regression\n",
    "df = df_test"
   ]
  },
  {
   "cell_type": "code",
   "execution_count": 9,
   "metadata": {},
   "outputs": [
    {
     "data": {
      "text/html": [
       "<div>\n",
       "<style scoped>\n",
       "    .dataframe tbody tr th:only-of-type {\n",
       "        vertical-align: middle;\n",
       "    }\n",
       "\n",
       "    .dataframe tbody tr th {\n",
       "        vertical-align: top;\n",
       "    }\n",
       "\n",
       "    .dataframe thead th {\n",
       "        text-align: right;\n",
       "    }\n",
       "</style>\n",
       "<table border=\"1\" class=\"dataframe\">\n",
       "  <thead>\n",
       "    <tr style=\"text-align: right;\">\n",
       "      <th></th>\n",
       "      <th>shares</th>\n",
       "    </tr>\n",
       "  </thead>\n",
       "  <tbody>\n",
       "    <tr>\n",
       "      <th>n_unique_tokens</th>\n",
       "      <td>0.000806</td>\n",
       "    </tr>\n",
       "    <tr>\n",
       "      <th>n_non_stop_words</th>\n",
       "      <td>0.000443</td>\n",
       "    </tr>\n",
       "    <tr>\n",
       "      <th>n_non_stop_unique_tokens</th>\n",
       "      <td>0.000114</td>\n",
       "    </tr>\n",
       "    <tr>\n",
       "      <th>global_rate_positive_words</th>\n",
       "      <td>0.000543</td>\n",
       "    </tr>\n",
       "    <tr>\n",
       "      <th>min_positive_polarity</th>\n",
       "      <td>0.000040</td>\n",
       "    </tr>\n",
       "  </tbody>\n",
       "</table>\n",
       "</div>"
      ],
      "text/plain": [
       "                              shares\n",
       "n_unique_tokens             0.000806\n",
       "n_non_stop_words            0.000443\n",
       "n_non_stop_unique_tokens    0.000114\n",
       "global_rate_positive_words  0.000543\n",
       "min_positive_polarity       0.000040"
      ]
     },
     "execution_count": 9,
     "metadata": {},
     "output_type": "execute_result"
    }
   ],
   "source": [
    "# the possitive effect of removing low correlated features means we will try this again\n",
    "# find features with correlation in the bottom 8%\n",
    "df_corr.loc[df_corr['shares'] < 0.000914]"
   ]
  },
  {
   "cell_type": "code",
   "execution_count": 10,
   "metadata": {},
   "outputs": [
    {
     "name": "stdout",
     "output_type": "stream",
     "text": [
      "Linear regression MAE = 1675.6158601174375\n",
      "Ridge regression MAE = 1680.0683331177215\n"
     ]
    }
   ],
   "source": [
    "# drop the features\n",
    "df_test = df.drop(columns=['n_unique_tokens', 'global_rate_positive_words'])\n",
    "# let's see whether it had a possitive effect\n",
    "perform_linear_and_ridge_regression(X=df_test.drop(columns=['shares']), Y=df_test['shares'])\n",
    "# better results for the Linear regression this time\n",
    "df = df_test"
   ]
  },
  {
   "cell_type": "code",
   "execution_count": 11,
   "metadata": {},
   "outputs": [
    {
     "name": "stdout",
     "output_type": "stream",
     "text": [
      "Linear regression MAE = 1675.615860014992\n",
      "Ridge regression MAE = 1679.9322763796786\n"
     ]
    }
   ],
   "source": [
    "# the is_weekend feature is probably not needed (because of the weekday_is_saturday and weekday_is_sunday features)\n",
    "# let's try removing it and look at the results\n",
    "df_test = df.drop(columns=['is_weekend'])\n",
    "perform_linear_and_ridge_regression(X=df_test.drop(columns=['shares']), Y=df_test['shares'])\n",
    "# the result is almost the same, just a very tiny bit better"
   ]
  },
  {
   "cell_type": "code",
   "execution_count": 12,
   "metadata": {},
   "outputs": [
    {
     "name": "stdout",
     "output_type": "stream",
     "text": [
      "Linear regression MAE = 1672.4176806939968\n",
      "Ridge regression MAE = 1673.9185805535199\n"
     ]
    }
   ],
   "source": [
    "# now let's try removing the weekday_is_saturday and weekday_is_sunday features and keep the is_weekend\n",
    "df_test = df.drop(columns=['weekday_is_saturday', 'weekday_is_sunday'])\n",
    "perform_linear_and_ridge_regression(X=df_test.drop(columns=['shares']), Y=df_test['shares'])\n",
    "# this gives us better results than removing is_weekend\n",
    "df = df_test"
   ]
  },
  {
   "cell_type": "code",
   "execution_count": 13,
   "metadata": {},
   "outputs": [
    {
     "name": "stdout",
     "output_type": "stream",
     "text": [
      "Linear regression MAE = 1661.6030491897732\n",
      "Ridge regression MAE = 1665.4172699027085\n"
     ]
    }
   ],
   "source": [
    "# I've randomly tried removing the LDA columns and it provided the biggest improvement so far\n",
    "LDA_columns = ['LDA_00', 'LDA_01', 'LDA_02', 'LDA_03', 'LDA_04']\n",
    "df_test = df.drop(columns=LDA_columns)\n",
    "perform_linear_and_ridge_regression(X=df_test.drop(columns=['shares']), Y=df_test['shares'])\n",
    "df = df_test"
   ]
  },
  {
   "cell_type": "code",
   "execution_count": 14,
   "metadata": {},
   "outputs": [
    {
     "data": {
      "text/html": [
       "<div>\n",
       "<style scoped>\n",
       "    .dataframe tbody tr th:only-of-type {\n",
       "        vertical-align: middle;\n",
       "    }\n",
       "\n",
       "    .dataframe tbody tr th {\n",
       "        vertical-align: top;\n",
       "    }\n",
       "\n",
       "    .dataframe thead th {\n",
       "        text-align: right;\n",
       "    }\n",
       "</style>\n",
       "<table border=\"1\" class=\"dataframe\">\n",
       "  <thead>\n",
       "    <tr style=\"text-align: right;\">\n",
       "      <th></th>\n",
       "      <th>shares</th>\n",
       "    </tr>\n",
       "    <tr>\n",
       "      <th>weekday_is_monday</th>\n",
       "      <th></th>\n",
       "    </tr>\n",
       "  </thead>\n",
       "  <tbody>\n",
       "    <tr>\n",
       "      <th>0.0</th>\n",
       "      <td>3344.559713</td>\n",
       "    </tr>\n",
       "    <tr>\n",
       "      <th>1.0</th>\n",
       "      <td>3647.025822</td>\n",
       "    </tr>\n",
       "  </tbody>\n",
       "</table>\n",
       "</div>"
      ],
      "text/plain": [
       "                        shares\n",
       "weekday_is_monday             \n",
       "0.0                3344.559713\n",
       "1.0                3647.025822"
      ]
     },
     "metadata": {},
     "output_type": "display_data"
    },
    {
     "data": {
      "text/html": [
       "<div>\n",
       "<style scoped>\n",
       "    .dataframe tbody tr th:only-of-type {\n",
       "        vertical-align: middle;\n",
       "    }\n",
       "\n",
       "    .dataframe tbody tr th {\n",
       "        vertical-align: top;\n",
       "    }\n",
       "\n",
       "    .dataframe thead th {\n",
       "        text-align: right;\n",
       "    }\n",
       "</style>\n",
       "<table border=\"1\" class=\"dataframe\">\n",
       "  <thead>\n",
       "    <tr style=\"text-align: right;\">\n",
       "      <th></th>\n",
       "      <th>shares</th>\n",
       "    </tr>\n",
       "    <tr>\n",
       "      <th>weekday_is_tuesday</th>\n",
       "      <th></th>\n",
       "    </tr>\n",
       "  </thead>\n",
       "  <tbody>\n",
       "    <tr>\n",
       "      <th>0.0</th>\n",
       "      <td>3439.572518</td>\n",
       "    </tr>\n",
       "    <tr>\n",
       "      <th>1.0</th>\n",
       "      <td>3202.500677</td>\n",
       "    </tr>\n",
       "  </tbody>\n",
       "</table>\n",
       "</div>"
      ],
      "text/plain": [
       "                         shares\n",
       "weekday_is_tuesday             \n",
       "0.0                 3439.572518\n",
       "1.0                 3202.500677"
      ]
     },
     "metadata": {},
     "output_type": "display_data"
    },
    {
     "data": {
      "text/html": [
       "<div>\n",
       "<style scoped>\n",
       "    .dataframe tbody tr th:only-of-type {\n",
       "        vertical-align: middle;\n",
       "    }\n",
       "\n",
       "    .dataframe tbody tr th {\n",
       "        vertical-align: top;\n",
       "    }\n",
       "\n",
       "    .dataframe thead th {\n",
       "        text-align: right;\n",
       "    }\n",
       "</style>\n",
       "<table border=\"1\" class=\"dataframe\">\n",
       "  <thead>\n",
       "    <tr style=\"text-align: right;\">\n",
       "      <th></th>\n",
       "      <th>shares</th>\n",
       "    </tr>\n",
       "    <tr>\n",
       "      <th>weekday_is_wednesday</th>\n",
       "      <th></th>\n",
       "    </tr>\n",
       "  </thead>\n",
       "  <tbody>\n",
       "    <tr>\n",
       "      <th>0.0</th>\n",
       "      <td>3416.611289</td>\n",
       "    </tr>\n",
       "    <tr>\n",
       "      <th>1.0</th>\n",
       "      <td>3303.405380</td>\n",
       "    </tr>\n",
       "  </tbody>\n",
       "</table>\n",
       "</div>"
      ],
      "text/plain": [
       "                           shares\n",
       "weekday_is_wednesday             \n",
       "0.0                   3416.611289\n",
       "1.0                   3303.405380"
      ]
     },
     "metadata": {},
     "output_type": "display_data"
    },
    {
     "data": {
      "text/html": [
       "<div>\n",
       "<style scoped>\n",
       "    .dataframe tbody tr th:only-of-type {\n",
       "        vertical-align: middle;\n",
       "    }\n",
       "\n",
       "    .dataframe tbody tr th {\n",
       "        vertical-align: top;\n",
       "    }\n",
       "\n",
       "    .dataframe thead th {\n",
       "        text-align: right;\n",
       "    }\n",
       "</style>\n",
       "<table border=\"1\" class=\"dataframe\">\n",
       "  <thead>\n",
       "    <tr style=\"text-align: right;\">\n",
       "      <th></th>\n",
       "      <th>shares</th>\n",
       "    </tr>\n",
       "    <tr>\n",
       "      <th>weekday_is_thursday</th>\n",
       "      <th></th>\n",
       "    </tr>\n",
       "  </thead>\n",
       "  <tbody>\n",
       "    <tr>\n",
       "      <th>0.0</th>\n",
       "      <td>3444.036569</td>\n",
       "    </tr>\n",
       "    <tr>\n",
       "      <th>1.0</th>\n",
       "      <td>3178.599147</td>\n",
       "    </tr>\n",
       "  </tbody>\n",
       "</table>\n",
       "</div>"
      ],
      "text/plain": [
       "                          shares\n",
       "weekday_is_thursday             \n",
       "0.0                  3444.036569\n",
       "1.0                  3178.599147"
      ]
     },
     "metadata": {},
     "output_type": "display_data"
    },
    {
     "data": {
      "text/html": [
       "<div>\n",
       "<style scoped>\n",
       "    .dataframe tbody tr th:only-of-type {\n",
       "        vertical-align: middle;\n",
       "    }\n",
       "\n",
       "    .dataframe tbody tr th {\n",
       "        vertical-align: top;\n",
       "    }\n",
       "\n",
       "    .dataframe thead th {\n",
       "        text-align: right;\n",
       "    }\n",
       "</style>\n",
       "<table border=\"1\" class=\"dataframe\">\n",
       "  <thead>\n",
       "    <tr style=\"text-align: right;\">\n",
       "      <th></th>\n",
       "      <th>shares</th>\n",
       "    </tr>\n",
       "    <tr>\n",
       "      <th>weekday_is_friday</th>\n",
       "      <th></th>\n",
       "    </tr>\n",
       "  </thead>\n",
       "  <tbody>\n",
       "    <tr>\n",
       "      <th>0.0</th>\n",
       "      <td>3413.889020</td>\n",
       "    </tr>\n",
       "    <tr>\n",
       "      <th>1.0</th>\n",
       "      <td>3285.181021</td>\n",
       "    </tr>\n",
       "  </tbody>\n",
       "</table>\n",
       "</div>"
      ],
      "text/plain": [
       "                        shares\n",
       "weekday_is_friday             \n",
       "0.0                3413.889020\n",
       "1.0                3285.181021"
      ]
     },
     "metadata": {},
     "output_type": "display_data"
    }
   ],
   "source": [
    "# let's see the average number of shares for each weekday\n",
    "display(df[['weekday_is_monday', 'shares']].groupby('weekday_is_monday').agg('mean'))\n",
    "display(df[['weekday_is_tuesday', 'shares']].groupby('weekday_is_tuesday').agg('mean'))\n",
    "display(df[['weekday_is_wednesday', 'shares']].groupby('weekday_is_wednesday').agg('mean'))\n",
    "display(df[['weekday_is_thursday', 'shares']].groupby('weekday_is_thursday').agg('mean'))\n",
    "display(df[['weekday_is_friday', 'shares']].groupby('weekday_is_friday').agg('mean'))"
   ]
  },
  {
   "cell_type": "code",
   "execution_count": 15,
   "metadata": {},
   "outputs": [
    {
     "name": "stdout",
     "output_type": "stream",
     "text": [
      "Linear regression MAE = 1661.0423731135497\n",
      "Ridge regression MAE = 1664.4858315780402\n"
     ]
    }
   ],
   "source": [
    "# we can see that wednesday and friday are very simillar just like tuestday and thursday\n",
    "# let's try merging them into pairs - create is_tuesday_or_thursday and is_wednesday_or_friday\n",
    "\n",
    "def is_tuesday_or_thursday(row):\n",
    "    if row['weekday_is_tuesday'] == 1:\n",
    "        return 1\n",
    "    if row['weekday_is_thursday'] == 1:\n",
    "        return 1\n",
    "    return 0\n",
    "\n",
    "def is_wednesday_or_friday(row):\n",
    "    if row['weekday_is_wednesday'] == 1:\n",
    "        return 1\n",
    "    if row['weekday_is_friday'] == 1:\n",
    "        return 1\n",
    "    return 0\n",
    "\n",
    "df_test['is_tuesday_or_thursday'] = df_test.apply(lambda row: is_tuesday_or_thursday(row), axis=1)\n",
    "df_test['is_wednesday_or_friday'] = df_test.apply(lambda row: is_wednesday_or_friday(row), axis=1)\n",
    "# remove all the weekday_is features\n",
    "df_test = df_test.drop(columns=['weekday_is_monday', 'weekday_is_tuesday','weekday_is_wednesday','weekday_is_thursday','weekday_is_friday'])\n",
    "perform_linear_and_ridge_regression(X=df_test.drop(columns=['shares']), Y=df_test['shares'])\n",
    "# the improvement is only 0.4 for Ridge regression, but we still got rid of 5 features for 2\n",
    "df = df_test"
   ]
  },
  {
   "cell_type": "code",
   "execution_count": 16,
   "metadata": {},
   "outputs": [
    {
     "data": {
      "text/html": [
       "<div>\n",
       "<style scoped>\n",
       "    .dataframe tbody tr th:only-of-type {\n",
       "        vertical-align: middle;\n",
       "    }\n",
       "\n",
       "    .dataframe tbody tr th {\n",
       "        vertical-align: top;\n",
       "    }\n",
       "\n",
       "    .dataframe thead th {\n",
       "        text-align: right;\n",
       "    }\n",
       "</style>\n",
       "<table border=\"1\" class=\"dataframe\">\n",
       "  <thead>\n",
       "    <tr style=\"text-align: right;\">\n",
       "      <th></th>\n",
       "      <th>shares</th>\n",
       "    </tr>\n",
       "    <tr>\n",
       "      <th>data_channel_is_lifestyle</th>\n",
       "      <th></th>\n",
       "    </tr>\n",
       "  </thead>\n",
       "  <tbody>\n",
       "    <tr>\n",
       "      <th>0.0</th>\n",
       "      <td>3379.349447</td>\n",
       "    </tr>\n",
       "    <tr>\n",
       "      <th>1.0</th>\n",
       "      <td>3682.123392</td>\n",
       "    </tr>\n",
       "  </tbody>\n",
       "</table>\n",
       "</div>"
      ],
      "text/plain": [
       "                                shares\n",
       "data_channel_is_lifestyle             \n",
       "0.0                        3379.349447\n",
       "1.0                        3682.123392"
      ]
     },
     "metadata": {},
     "output_type": "display_data"
    },
    {
     "data": {
      "text/html": [
       "<div>\n",
       "<style scoped>\n",
       "    .dataframe tbody tr th:only-of-type {\n",
       "        vertical-align: middle;\n",
       "    }\n",
       "\n",
       "    .dataframe tbody tr th {\n",
       "        vertical-align: top;\n",
       "    }\n",
       "\n",
       "    .dataframe thead th {\n",
       "        text-align: right;\n",
       "    }\n",
       "</style>\n",
       "<table border=\"1\" class=\"dataframe\">\n",
       "  <thead>\n",
       "    <tr style=\"text-align: right;\">\n",
       "      <th></th>\n",
       "      <th>shares</th>\n",
       "    </tr>\n",
       "    <tr>\n",
       "      <th>data_channel_is_entertainment</th>\n",
       "      <th></th>\n",
       "    </tr>\n",
       "  </thead>\n",
       "  <tbody>\n",
       "    <tr>\n",
       "      <th>0.0</th>\n",
       "      <td>3487.394513</td>\n",
       "    </tr>\n",
       "    <tr>\n",
       "      <th>1.0</th>\n",
       "      <td>2970.487034</td>\n",
       "    </tr>\n",
       "  </tbody>\n",
       "</table>\n",
       "</div>"
      ],
      "text/plain": [
       "                                    shares\n",
       "data_channel_is_entertainment             \n",
       "0.0                            3487.394513\n",
       "1.0                            2970.487034"
      ]
     },
     "metadata": {},
     "output_type": "display_data"
    },
    {
     "data": {
      "text/html": [
       "<div>\n",
       "<style scoped>\n",
       "    .dataframe tbody tr th:only-of-type {\n",
       "        vertical-align: middle;\n",
       "    }\n",
       "\n",
       "    .dataframe tbody tr th {\n",
       "        vertical-align: top;\n",
       "    }\n",
       "\n",
       "    .dataframe thead th {\n",
       "        text-align: right;\n",
       "    }\n",
       "</style>\n",
       "<table border=\"1\" class=\"dataframe\">\n",
       "  <thead>\n",
       "    <tr style=\"text-align: right;\">\n",
       "      <th></th>\n",
       "      <th>shares</th>\n",
       "    </tr>\n",
       "    <tr>\n",
       "      <th>data_channel_is_bus</th>\n",
       "      <th></th>\n",
       "    </tr>\n",
       "  </thead>\n",
       "  <tbody>\n",
       "    <tr>\n",
       "      <th>0.0</th>\n",
       "      <td>3457.679327</td>\n",
       "    </tr>\n",
       "    <tr>\n",
       "      <th>1.0</th>\n",
       "      <td>3063.018536</td>\n",
       "    </tr>\n",
       "  </tbody>\n",
       "</table>\n",
       "</div>"
      ],
      "text/plain": [
       "                          shares\n",
       "data_channel_is_bus             \n",
       "0.0                  3457.679327\n",
       "1.0                  3063.018536"
      ]
     },
     "metadata": {},
     "output_type": "display_data"
    },
    {
     "data": {
      "text/html": [
       "<div>\n",
       "<style scoped>\n",
       "    .dataframe tbody tr th:only-of-type {\n",
       "        vertical-align: middle;\n",
       "    }\n",
       "\n",
       "    .dataframe tbody tr th {\n",
       "        vertical-align: top;\n",
       "    }\n",
       "\n",
       "    .dataframe thead th {\n",
       "        text-align: right;\n",
       "    }\n",
       "</style>\n",
       "<table border=\"1\" class=\"dataframe\">\n",
       "  <thead>\n",
       "    <tr style=\"text-align: right;\">\n",
       "      <th></th>\n",
       "      <th>shares</th>\n",
       "    </tr>\n",
       "    <tr>\n",
       "      <th>data_channel_is_socmed</th>\n",
       "      <th></th>\n",
       "    </tr>\n",
       "  </thead>\n",
       "  <tbody>\n",
       "    <tr>\n",
       "      <th>0.0</th>\n",
       "      <td>3380.814957</td>\n",
       "    </tr>\n",
       "    <tr>\n",
       "      <th>1.0</th>\n",
       "      <td>3629.383125</td>\n",
       "    </tr>\n",
       "  </tbody>\n",
       "</table>\n",
       "</div>"
      ],
      "text/plain": [
       "                             shares\n",
       "data_channel_is_socmed             \n",
       "0.0                     3380.814957\n",
       "1.0                     3629.383125"
      ]
     },
     "metadata": {},
     "output_type": "display_data"
    },
    {
     "data": {
      "text/html": [
       "<div>\n",
       "<style scoped>\n",
       "    .dataframe tbody tr th:only-of-type {\n",
       "        vertical-align: middle;\n",
       "    }\n",
       "\n",
       "    .dataframe tbody tr th {\n",
       "        vertical-align: top;\n",
       "    }\n",
       "\n",
       "    .dataframe thead th {\n",
       "        text-align: right;\n",
       "    }\n",
       "</style>\n",
       "<table border=\"1\" class=\"dataframe\">\n",
       "  <thead>\n",
       "    <tr style=\"text-align: right;\">\n",
       "      <th></th>\n",
       "      <th>shares</th>\n",
       "    </tr>\n",
       "    <tr>\n",
       "      <th>data_channel_is_tech</th>\n",
       "      <th></th>\n",
       "    </tr>\n",
       "  </thead>\n",
       "  <tbody>\n",
       "    <tr>\n",
       "      <th>0.0</th>\n",
       "      <td>3468.866772</td>\n",
       "    </tr>\n",
       "    <tr>\n",
       "      <th>1.0</th>\n",
       "      <td>3072.283283</td>\n",
       "    </tr>\n",
       "  </tbody>\n",
       "</table>\n",
       "</div>"
      ],
      "text/plain": [
       "                           shares\n",
       "data_channel_is_tech             \n",
       "0.0                   3468.866772\n",
       "1.0                   3072.283283"
      ]
     },
     "metadata": {},
     "output_type": "display_data"
    },
    {
     "data": {
      "text/html": [
       "<div>\n",
       "<style scoped>\n",
       "    .dataframe tbody tr th:only-of-type {\n",
       "        vertical-align: middle;\n",
       "    }\n",
       "\n",
       "    .dataframe tbody tr th {\n",
       "        vertical-align: top;\n",
       "    }\n",
       "\n",
       "    .dataframe thead th {\n",
       "        text-align: right;\n",
       "    }\n",
       "</style>\n",
       "<table border=\"1\" class=\"dataframe\">\n",
       "  <thead>\n",
       "    <tr style=\"text-align: right;\">\n",
       "      <th></th>\n",
       "      <th>shares</th>\n",
       "    </tr>\n",
       "    <tr>\n",
       "      <th>data_channel_is_world</th>\n",
       "      <th></th>\n",
       "    </tr>\n",
       "  </thead>\n",
       "  <tbody>\n",
       "    <tr>\n",
       "      <th>0.0</th>\n",
       "      <td>3694.388218</td>\n",
       "    </tr>\n",
       "    <tr>\n",
       "      <th>1.0</th>\n",
       "      <td>2287.734069</td>\n",
       "    </tr>\n",
       "  </tbody>\n",
       "</table>\n",
       "</div>"
      ],
      "text/plain": [
       "                            shares\n",
       "data_channel_is_world             \n",
       "0.0                    3694.388218\n",
       "1.0                    2287.734069"
      ]
     },
     "metadata": {},
     "output_type": "display_data"
    }
   ],
   "source": [
    "# let's see the average number of shares for each data channel category\n",
    "display(df[['data_channel_is_lifestyle', 'shares']].groupby('data_channel_is_lifestyle').agg('mean'))\n",
    "display(df[['data_channel_is_entertainment', 'shares']].groupby('data_channel_is_entertainment').agg('mean'))\n",
    "display(df[['data_channel_is_bus', 'shares']].groupby('data_channel_is_bus').agg('mean'))\n",
    "display(df[['data_channel_is_socmed', 'shares']].groupby('data_channel_is_socmed').agg('mean'))\n",
    "display(df[['data_channel_is_tech', 'shares']].groupby('data_channel_is_tech').agg('mean'))\n",
    "display(df[['data_channel_is_world', 'shares']].groupby('data_channel_is_world').agg('mean'))"
   ]
  },
  {
   "cell_type": "code",
   "execution_count": 17,
   "metadata": {},
   "outputs": [
    {
     "name": "stdout",
     "output_type": "stream",
     "text": [
      "Linear regression MAE = 1661.0423732548907\n",
      "Ridge regression MAE = 1663.591049883973\n"
     ]
    }
   ],
   "source": [
    "# I've tried merging tech with bus and socmed with lifestyle features, but it didn't improve the results\n",
    "\n",
    "# let's add feature that represents number of categories of each article\n",
    "def n_categories(row):\n",
    "    return row['data_channel_is_lifestyle'] + row['data_channel_is_entertainment'] + row['data_channel_is_bus'] + row['data_channel_is_socmed'] + row['data_channel_is_tech'] + row['data_channel_is_world']\n",
    "    \n",
    "df_test['n_categories'] = df_test.apply(lambda row: n_categories(row), axis=1)\n",
    "perform_linear_and_ridge_regression(X=df_test.drop(columns=['shares']), Y=df_test['shares'])\n",
    "# Ridge reg got improved a little bit\n",
    "df = df_test"
   ]
  },
  {
   "cell_type": "code",
   "execution_count": 18,
   "metadata": {},
   "outputs": [
    {
     "name": "stdout",
     "output_type": "stream",
     "text": [
      "Linear regression MAE = 1657.9722452866868\n",
      "Ridge regression MAE = 1662.5118814524285\n"
     ]
    }
   ],
   "source": [
    "# when I was trying to do somethingh wih positive and negative word rates, \n",
    "# I've discovered that removing rate_negative_words feature improves the scores\n",
    "df_test = df_test.drop(columns=['rate_negative_words'])\n",
    "perform_linear_and_ridge_regression(X=df_test.drop(columns=['shares']), Y=df_test['shares'])\n",
    "df = df_test"
   ]
  },
  {
   "cell_type": "code",
   "execution_count": 19,
   "metadata": {},
   "outputs": [
    {
     "name": "stdout",
     "output_type": "stream",
     "text": [
      "Linear regression MAE = 1654.2217858224021\n",
      "Ridge regression MAE = 1660.4798032861795\n"
     ]
    }
   ],
   "source": [
    "# title_subjectivity and abs_title_subjectivity sounds like too similar features \n",
    "# removing the title_subjectivity feature gives us better results\n",
    "df_test = df_test.drop(columns=['title_subjectivity'])\n",
    "perform_linear_and_ridge_regression(X=df_test.drop(columns=['shares']), Y=df_test['shares'])\n",
    "df = df_test"
   ]
  },
  {
   "cell_type": "code",
   "execution_count": 20,
   "metadata": {},
   "outputs": [
    {
     "name": "stdout",
     "output_type": "stream",
     "text": [
      "<class 'pandas.core.frame.DataFrame'>\n",
      "RangeIndex: 39644 entries, 0 to 39643\n",
      "Data columns (total 38 columns):\n",
      "n_tokens_title                   39644 non-null float64\n",
      "n_tokens_content                 39644 non-null float64\n",
      "num_hrefs                        39644 non-null float64\n",
      "num_self_hrefs                   39644 non-null float64\n",
      "num_imgs                         39644 non-null float64\n",
      "num_videos                       39644 non-null float64\n",
      "average_token_length             39644 non-null float64\n",
      "num_keywords                     39644 non-null float64\n",
      "data_channel_is_lifestyle        39644 non-null float64\n",
      "data_channel_is_entertainment    39644 non-null float64\n",
      "data_channel_is_bus              39644 non-null float64\n",
      "data_channel_is_socmed           39644 non-null float64\n",
      "data_channel_is_tech             39644 non-null float64\n",
      "data_channel_is_world            39644 non-null float64\n",
      "kw_avg_max                       39644 non-null float64\n",
      "kw_min_avg                       39644 non-null float64\n",
      "kw_max_avg                       39644 non-null float64\n",
      "kw_avg_avg                       39644 non-null float64\n",
      "self_reference_min_shares        39644 non-null float64\n",
      "self_reference_max_shares        39644 non-null float64\n",
      "self_reference_avg_sharess       39644 non-null float64\n",
      "is_weekend                       39644 non-null float64\n",
      "global_subjectivity              39644 non-null float64\n",
      "global_sentiment_polarity        39644 non-null float64\n",
      "global_rate_negative_words       39644 non-null float64\n",
      "rate_positive_words              39644 non-null float64\n",
      "avg_positive_polarity            39644 non-null float64\n",
      "max_positive_polarity            39644 non-null float64\n",
      "avg_negative_polarity            39644 non-null float64\n",
      "min_negative_polarity            39644 non-null float64\n",
      "max_negative_polarity            39644 non-null float64\n",
      "title_sentiment_polarity         39644 non-null float64\n",
      "abs_title_subjectivity           39644 non-null float64\n",
      "abs_title_sentiment_polarity     39644 non-null float64\n",
      "shares                           39644 non-null int64\n",
      "is_tuesday_or_thursday           39644 non-null int64\n",
      "is_wednesday_or_friday           39644 non-null int64\n",
      "n_categories                     39644 non-null float64\n",
      "dtypes: float64(35), int64(3)\n",
      "memory usage: 11.5 MB\n"
     ]
    }
   ],
   "source": [
    "# I don't have any idea what to do with the features next, so these are the final features\n",
    "df.info()"
   ]
  },
  {
   "cell_type": "code",
   "execution_count": 21,
   "metadata": {},
   "outputs": [
    {
     "data": {
      "text/html": [
       "<div>\n",
       "<style scoped>\n",
       "    .dataframe tbody tr th:only-of-type {\n",
       "        vertical-align: middle;\n",
       "    }\n",
       "\n",
       "    .dataframe tbody tr th {\n",
       "        vertical-align: top;\n",
       "    }\n",
       "\n",
       "    .dataframe thead th {\n",
       "        text-align: right;\n",
       "    }\n",
       "</style>\n",
       "<table border=\"1\" class=\"dataframe\">\n",
       "  <thead>\n",
       "    <tr style=\"text-align: right;\">\n",
       "      <th></th>\n",
       "      <th>n_tokens_title</th>\n",
       "      <th>n_tokens_content</th>\n",
       "      <th>num_hrefs</th>\n",
       "      <th>num_self_hrefs</th>\n",
       "      <th>num_imgs</th>\n",
       "      <th>num_videos</th>\n",
       "      <th>average_token_length</th>\n",
       "      <th>num_keywords</th>\n",
       "      <th>kw_avg_max</th>\n",
       "      <th>kw_min_avg</th>\n",
       "      <th>kw_max_avg</th>\n",
       "      <th>kw_avg_avg</th>\n",
       "      <th>self_reference_min_shares</th>\n",
       "      <th>self_reference_max_shares</th>\n",
       "      <th>self_reference_avg_sharess</th>\n",
       "      <th>shares</th>\n",
       "    </tr>\n",
       "  </thead>\n",
       "  <tbody>\n",
       "    <tr>\n",
       "      <th>count</th>\n",
       "      <td>39644.000000</td>\n",
       "      <td>39644.000000</td>\n",
       "      <td>39644.000000</td>\n",
       "      <td>39644.000000</td>\n",
       "      <td>39644.000000</td>\n",
       "      <td>39644.000000</td>\n",
       "      <td>39644.000000</td>\n",
       "      <td>39644.000000</td>\n",
       "      <td>39644.000000</td>\n",
       "      <td>39644.000000</td>\n",
       "      <td>39644.000000</td>\n",
       "      <td>39644.000000</td>\n",
       "      <td>39644.000000</td>\n",
       "      <td>39644.000000</td>\n",
       "      <td>39644.000000</td>\n",
       "      <td>39644.000000</td>\n",
       "    </tr>\n",
       "    <tr>\n",
       "      <th>mean</th>\n",
       "      <td>10.398749</td>\n",
       "      <td>546.514731</td>\n",
       "      <td>10.883690</td>\n",
       "      <td>3.293638</td>\n",
       "      <td>4.544143</td>\n",
       "      <td>1.249874</td>\n",
       "      <td>4.548239</td>\n",
       "      <td>7.223767</td>\n",
       "      <td>259281.938083</td>\n",
       "      <td>1117.146610</td>\n",
       "      <td>5657.211151</td>\n",
       "      <td>3135.858639</td>\n",
       "      <td>3998.755396</td>\n",
       "      <td>10329.212662</td>\n",
       "      <td>6401.697580</td>\n",
       "      <td>3395.380184</td>\n",
       "    </tr>\n",
       "    <tr>\n",
       "      <th>std</th>\n",
       "      <td>2.114037</td>\n",
       "      <td>471.107508</td>\n",
       "      <td>11.332017</td>\n",
       "      <td>3.855141</td>\n",
       "      <td>8.309434</td>\n",
       "      <td>4.107855</td>\n",
       "      <td>0.844406</td>\n",
       "      <td>1.909130</td>\n",
       "      <td>135102.247285</td>\n",
       "      <td>1137.456951</td>\n",
       "      <td>6098.871957</td>\n",
       "      <td>1318.150397</td>\n",
       "      <td>19738.670516</td>\n",
       "      <td>41027.576613</td>\n",
       "      <td>24211.332231</td>\n",
       "      <td>11626.950749</td>\n",
       "    </tr>\n",
       "    <tr>\n",
       "      <th>min</th>\n",
       "      <td>2.000000</td>\n",
       "      <td>0.000000</td>\n",
       "      <td>0.000000</td>\n",
       "      <td>0.000000</td>\n",
       "      <td>0.000000</td>\n",
       "      <td>0.000000</td>\n",
       "      <td>0.000000</td>\n",
       "      <td>1.000000</td>\n",
       "      <td>0.000000</td>\n",
       "      <td>-1.000000</td>\n",
       "      <td>0.000000</td>\n",
       "      <td>0.000000</td>\n",
       "      <td>0.000000</td>\n",
       "      <td>0.000000</td>\n",
       "      <td>0.000000</td>\n",
       "      <td>1.000000</td>\n",
       "    </tr>\n",
       "    <tr>\n",
       "      <th>25%</th>\n",
       "      <td>9.000000</td>\n",
       "      <td>246.000000</td>\n",
       "      <td>4.000000</td>\n",
       "      <td>1.000000</td>\n",
       "      <td>1.000000</td>\n",
       "      <td>0.000000</td>\n",
       "      <td>4.478404</td>\n",
       "      <td>6.000000</td>\n",
       "      <td>172846.875000</td>\n",
       "      <td>0.000000</td>\n",
       "      <td>3562.101631</td>\n",
       "      <td>2382.448566</td>\n",
       "      <td>639.000000</td>\n",
       "      <td>1100.000000</td>\n",
       "      <td>981.187500</td>\n",
       "      <td>946.000000</td>\n",
       "    </tr>\n",
       "    <tr>\n",
       "      <th>50%</th>\n",
       "      <td>10.000000</td>\n",
       "      <td>409.000000</td>\n",
       "      <td>8.000000</td>\n",
       "      <td>3.000000</td>\n",
       "      <td>1.000000</td>\n",
       "      <td>0.000000</td>\n",
       "      <td>4.664082</td>\n",
       "      <td>7.000000</td>\n",
       "      <td>244572.222223</td>\n",
       "      <td>1023.635611</td>\n",
       "      <td>4355.688836</td>\n",
       "      <td>2870.074878</td>\n",
       "      <td>1200.000000</td>\n",
       "      <td>2800.000000</td>\n",
       "      <td>2200.000000</td>\n",
       "      <td>1400.000000</td>\n",
       "    </tr>\n",
       "    <tr>\n",
       "      <th>75%</th>\n",
       "      <td>12.000000</td>\n",
       "      <td>716.000000</td>\n",
       "      <td>14.000000</td>\n",
       "      <td>4.000000</td>\n",
       "      <td>4.000000</td>\n",
       "      <td>1.000000</td>\n",
       "      <td>4.854839</td>\n",
       "      <td>9.000000</td>\n",
       "      <td>330980.000000</td>\n",
       "      <td>2056.781032</td>\n",
       "      <td>6019.953968</td>\n",
       "      <td>3600.229564</td>\n",
       "      <td>2600.000000</td>\n",
       "      <td>8000.000000</td>\n",
       "      <td>5200.000000</td>\n",
       "      <td>2800.000000</td>\n",
       "    </tr>\n",
       "    <tr>\n",
       "      <th>max</th>\n",
       "      <td>23.000000</td>\n",
       "      <td>8474.000000</td>\n",
       "      <td>304.000000</td>\n",
       "      <td>116.000000</td>\n",
       "      <td>128.000000</td>\n",
       "      <td>91.000000</td>\n",
       "      <td>8.041534</td>\n",
       "      <td>10.000000</td>\n",
       "      <td>843300.000000</td>\n",
       "      <td>3613.039820</td>\n",
       "      <td>298400.000000</td>\n",
       "      <td>43567.659946</td>\n",
       "      <td>843300.000000</td>\n",
       "      <td>843300.000000</td>\n",
       "      <td>843300.000000</td>\n",
       "      <td>843300.000000</td>\n",
       "    </tr>\n",
       "  </tbody>\n",
       "</table>\n",
       "</div>"
      ],
      "text/plain": [
       "       n_tokens_title  n_tokens_content     num_hrefs  num_self_hrefs  \\\n",
       "count    39644.000000      39644.000000  39644.000000    39644.000000   \n",
       "mean        10.398749        546.514731     10.883690        3.293638   \n",
       "std          2.114037        471.107508     11.332017        3.855141   \n",
       "min          2.000000          0.000000      0.000000        0.000000   \n",
       "25%          9.000000        246.000000      4.000000        1.000000   \n",
       "50%         10.000000        409.000000      8.000000        3.000000   \n",
       "75%         12.000000        716.000000     14.000000        4.000000   \n",
       "max         23.000000       8474.000000    304.000000      116.000000   \n",
       "\n",
       "           num_imgs    num_videos  average_token_length  num_keywords  \\\n",
       "count  39644.000000  39644.000000          39644.000000  39644.000000   \n",
       "mean       4.544143      1.249874              4.548239      7.223767   \n",
       "std        8.309434      4.107855              0.844406      1.909130   \n",
       "min        0.000000      0.000000              0.000000      1.000000   \n",
       "25%        1.000000      0.000000              4.478404      6.000000   \n",
       "50%        1.000000      0.000000              4.664082      7.000000   \n",
       "75%        4.000000      1.000000              4.854839      9.000000   \n",
       "max      128.000000     91.000000              8.041534     10.000000   \n",
       "\n",
       "          kw_avg_max    kw_min_avg     kw_max_avg    kw_avg_avg  \\\n",
       "count   39644.000000  39644.000000   39644.000000  39644.000000   \n",
       "mean   259281.938083   1117.146610    5657.211151   3135.858639   \n",
       "std    135102.247285   1137.456951    6098.871957   1318.150397   \n",
       "min         0.000000     -1.000000       0.000000      0.000000   \n",
       "25%    172846.875000      0.000000    3562.101631   2382.448566   \n",
       "50%    244572.222223   1023.635611    4355.688836   2870.074878   \n",
       "75%    330980.000000   2056.781032    6019.953968   3600.229564   \n",
       "max    843300.000000   3613.039820  298400.000000  43567.659946   \n",
       "\n",
       "       self_reference_min_shares  self_reference_max_shares  \\\n",
       "count               39644.000000               39644.000000   \n",
       "mean                 3998.755396               10329.212662   \n",
       "std                 19738.670516               41027.576613   \n",
       "min                     0.000000                   0.000000   \n",
       "25%                   639.000000                1100.000000   \n",
       "50%                  1200.000000                2800.000000   \n",
       "75%                  2600.000000                8000.000000   \n",
       "max                843300.000000              843300.000000   \n",
       "\n",
       "       self_reference_avg_sharess         shares  \n",
       "count                39644.000000   39644.000000  \n",
       "mean                  6401.697580    3395.380184  \n",
       "std                  24211.332231   11626.950749  \n",
       "min                      0.000000       1.000000  \n",
       "25%                    981.187500     946.000000  \n",
       "50%                   2200.000000    1400.000000  \n",
       "75%                   5200.000000    2800.000000  \n",
       "max                 843300.000000  843300.000000  "
      ]
     },
     "execution_count": 21,
     "metadata": {},
     "output_type": "execute_result"
    }
   ],
   "source": [
    "# let's do some normalization, standardization and other transformations now \n",
    "# there are a buch of binary features (weekday_is_monday, data_channel_is_lifestyle etc.)\n",
    "# we must keep in mind that transforming those wouldn't be a good idea\n",
    "binary_columns = ['data_channel_is_lifestyle', 'data_channel_is_entertainment', 'data_channel_is_bus', \n",
    "                   'data_channel_is_socmed', 'data_channel_is_tech', 'data_channel_is_world', \n",
    "                  'is_tuesday_or_thursday', 'is_wednesday_or_friday', 'is_weekend', 'n_categories']\n",
    "\n",
    "# other than that, there are bunch of features that seem scaled already (rate_positive_words etc.)\n",
    "\n",
    "# I've tried not scaling each of these columns, but it had a negative effect on the scores\n",
    "subjectivity_columns = ['global_subjectivity', 'abs_title_subjectivity']\n",
    "rate_columns = ['rate_positive_words', 'global_rate_negative_words']\n",
    "polarity_columns = ['avg_positive_polarity', 'max_positive_polarity', 'avg_negative_polarity', \n",
    "                 'min_negative_polarity', 'max_negative_polarity', 'title_sentiment_polarity', \n",
    "                    'global_sentiment_polarity', 'abs_title_sentiment_polarity']\n",
    "\n",
    "lowstd_columns=['n_tokens_title', 'num_hrefs', 'num_self_hrefs', 'num_imgs', 'num_videos', 'average_token_length',\n",
    "        'num_keywords', 'n_tokens_content']\n",
    "dontscale_columns = binary_columns + subjectivity_columns + rate_columns + polarity_columns + lowstd_columns\n",
    "\n",
    "# describe the remaining features\n",
    "df.drop(columns=binary_columns+subjectivity_columns+rate_columns+polarity_columns).describe(include='all')"
   ]
  },
  {
   "cell_type": "code",
   "execution_count": 22,
   "metadata": {},
   "outputs": [],
   "source": [
    "# I've tried using these transformators with these results:\n",
    "# sklearn.preprocessing.Normalizer\n",
    "# Linear regression MAE = 1750.7696860719507\n",
    "# Ridge regression MAE = 1754.4521590251807\n",
    "\n",
    "# sklearn.preprocessing.StandardScaler\n",
    "# Linear regression MAE = 1657.1384740860321\n",
    "# Ridge regression MAE = 1657.7284066638595\n",
    "\n",
    "# sklearn.preprocessing.PowerTransformer\n",
    "# Linear regression MAE = 1723.1408321137283\n",
    "# Ridge regression MAE = 1723.0101042191618\n",
    "\n",
    "# sklearn.preprocessing.RobustScaler\n",
    "# Linear regression MAE = 1657.7723885145679\n",
    "# Ridge regression MAE = 1657.658674200049\n",
    "\n",
    "# sklearn.preprocessing.QuantileTransformer\n",
    "# Linear regression MAE = 1739.5108472224529\n",
    "# Ridge regression MAE = 1745.7884436520026\n",
    "\n",
    "# sklearn.preprocessing.MaxAbsScaler\n",
    "# Linear regression MAE = 1654.2217858023487\n",
    "# Ridge regression MAE = 1662.4768169350627\n",
    "\n",
    "# sklearn.preprocessing.MinMaxScaler\n",
    "# Linear regression MAE = 1672.8884740860321\n",
    "#Ridge regression MAE = 1662.5198158173225\n",
    "\n",
    "# the results are shockingly bad as none of the transformers gave us better results for both models\n",
    "# I might have done something wrong here, but I've used it the same way in the 3rd homework"
   ]
  },
  {
   "cell_type": "code",
   "execution_count": 23,
   "metadata": {},
   "outputs": [
    {
     "name": "stdout",
     "output_type": "stream",
     "text": [
      "Linear regression MAE = 1654.2217858023487\n",
      "Ridge regression MAE = 1662.4768169350627\n"
     ]
    }
   ],
   "source": [
    "from sklearn.preprocessing import StandardScaler\n",
    "from sklearn.preprocessing import Normalizer\n",
    "from sklearn.preprocessing import RobustScaler\n",
    "from sklearn.preprocessing import PowerTransformer\n",
    "from sklearn.preprocessing import QuantileTransformer\n",
    "from sklearn.preprocessing import MaxAbsScaler\n",
    "from sklearn.preprocessing import MinMaxScaler\n",
    "\n",
    "X = df.drop(columns=['shares'])\n",
    "# separate binary and non binary features\n",
    "X_binary = X[binary_columns]\n",
    "X = X.drop(columns=binary_columns)\n",
    "Y = df['shares']\n",
    "transformer = MaxAbsScaler().fit(X)\n",
    "X_scaled = transformer.transform(X)\n",
    "X_scaled = pd.DataFrame(X_scaled, columns=X.columns)\n",
    "# stitch binary and scaled non binary features back together\n",
    "X = pd.merge(X_scaled, X_binary, left_index=True, right_index=True)\n",
    "perform_linear_and_ridge_regression(X=X, Y=Y)"
   ]
  },
  {
   "cell_type": "code",
   "execution_count": 24,
   "metadata": {},
   "outputs": [
    {
     "name": "stdout",
     "output_type": "stream",
     "text": [
      "Linear regression MAE = 1654.2217858022977\n",
      "Ridge regression MAE = 1660.4798032861795\n"
     ]
    }
   ],
   "source": [
    "# dimension reduction doesn't help us much, the best n_components=36 so we lose just one dimension\n",
    "from sklearn.decomposition import PCA\n",
    "from sklearn.decomposition import TruncatedSVD\n",
    "pca = TruncatedSVD(n_components=36, n_iter=10, random_state=42)\n",
    "X = pca.fit_transform(df.drop(columns=['shares']))\n",
    "Y = df['shares']\n",
    "perform_linear_and_ridge_regression(X=X, Y=Y)"
   ]
  },
  {
   "cell_type": "code",
   "execution_count": 25,
   "metadata": {},
   "outputs": [],
   "source": [
    "# changing the problem from regression to classification might help here, \n",
    "# but since this assignment is about regression so we won't dig into that\n",
    "\n",
    "# so after many painfull hours of trying we've improved the scores by roughly 3% :'(\n",
    "# let's try running some different models though"
   ]
  },
  {
   "cell_type": "code",
   "execution_count": 26,
   "metadata": {},
   "outputs": [
    {
     "name": "stdout",
     "output_type": "stream",
     "text": [
      "Logistic regression MAE = 500.0\n"
     ]
    }
   ],
   "source": [
    "# let's try logistic regression first\n",
    "from sklearn.linear_model import LogisticRegression\n",
    "X_train, X_test, Y_train, Y_test = train_test_split(X, Y, test_size=0.25, random_state=42) \n",
    "    \n",
    "parameters = {\n",
    "    'multi_class': ['multinomial'],\n",
    "    'n_jobs': [4],\n",
    "    'tol': [0.1],\n",
    "    'solver' : ['sag']\n",
    "}\n",
    "# I didn't use GridSearchCV here because it just took way too long\n",
    "log_reg = LogisticRegression(multi_class='multinomial', tol=0.1, solver='sag')\n",
    "log_reg.fit(X=X_train, y=Y_train)\n",
    "Y_pred = log_reg.predict(X_test)\n",
    "print('Logistic regression MAE =', median_absolute_error(Y_test, Y_pred))\n",
    "# MAE = 500 WOW! After x hours of working with the features all that was needed was to use a different model"
   ]
  },
  {
   "cell_type": "code",
   "execution_count": 31,
   "metadata": {},
   "outputs": [
    {
     "name": "stdout",
     "output_type": "stream",
     "text": [
      "AdaBoost MAE = 5715.498245614035\n"
     ]
    }
   ],
   "source": [
    "# let's try AdaBoostRegressor now\n",
    "from sklearn.ensemble import AdaBoostRegressor\n",
    "\n",
    "parameters = {\n",
    "    'n_estimators': range(10, 50, 5),\n",
    "    'learning_rate': range(1, 2)\n",
    "}\n",
    "\n",
    "ab = GridSearchCV(AdaBoostRegressor(), parameters, cv=5)\n",
    "ab.fit(X=X_train, y=Y_train)\n",
    "Y_pred = ab.predict(X_test)\n",
    "print('AdaBoost MAE =', median_absolute_error(Y_test, Y_pred))\n",
    "# terrible result"
   ]
  },
  {
   "cell_type": "code",
   "execution_count": 35,
   "metadata": {},
   "outputs": [
    {
     "name": "stdout",
     "output_type": "stream",
     "text": [
      "AdaBoost MAE = 1694.4332293223547\n"
     ]
    }
   ],
   "source": [
    "# RandomForestRegressor\n",
    "from sklearn.ensemble import RandomForestRegressor\n",
    "\n",
    "# I didn't go through many hyperparameter combinations because it took too long\n",
    "parameters = {\n",
    "    'n_estimators': range(10, 50, 20),\n",
    "    'max_depth': range(4, 5),\n",
    "    'n_jobs': [4]\n",
    "}\n",
    "rf = GridSearchCV(RandomForestRegressor(), parameters, cv=5)\n",
    "rf.fit(X=X_train, y=Y_train)\n",
    "Y_pred = rf.predict(X_test)\n",
    "print('AdaBoost MAE =', median_absolute_error(Y_test, Y_pred))\n",
    "# results are similar to the Linear regression"
   ]
  },
  {
   "cell_type": "code",
   "execution_count": 40,
   "metadata": {},
   "outputs": [
    {
     "name": "stdout",
     "output_type": "stream",
     "text": [
      "LinearSRV MAE = 1040.3775526638942\n"
     ]
    }
   ],
   "source": [
    "# LinearSVR\n",
    "from sklearn.svm import LinearSVR\n",
    "\n",
    "parameters = {\n",
    "    'epsilon': [0.0, 0.1],\n",
    "    'C': [1.0, 2.0],\n",
    "    'fit_intercept': [True]\n",
    "}\n",
    "lsvr = GridSearchCV(LinearSVR(), parameters, cv=5)\n",
    "lsvr.fit(X=X_train, y=Y_train)\n",
    "Y_pred = lsvr.predict(X_test)\n",
    "print('LinearSRV MAE =', median_absolute_error(Y_test, Y_pred))\n",
    "# pretty good result, but still no way near the Logistic regression"
   ]
  },
  {
   "cell_type": "code",
   "execution_count": 41,
   "metadata": {},
   "outputs": [],
   "source": [
    "# in the end we got to MAE = 500.0 using Logistic regression\n",
    "# we might have done even better if I had more time and computing power on my side to test more hyperparameters"
   ]
  }
 ],
 "metadata": {
  "kernelspec": {
   "display_name": "Python 3",
   "language": "python",
   "name": "python3"
  },
  "language_info": {
   "codemirror_mode": {
    "name": "ipython",
    "version": 3
   },
   "file_extension": ".py",
   "mimetype": "text/x-python",
   "name": "python",
   "nbconvert_exporter": "python",
   "pygments_lexer": "ipython3",
   "version": "3.7.2"
  }
 },
 "nbformat": 4,
 "nbformat_minor": 2
}
